{
 "cells": [
  {
   "cell_type": "code",
   "execution_count": 1,
   "id": "6b5c3497",
   "metadata": {
    "_cell_guid": "b1076dfc-b9ad-4769-8c92-a6c4dae69d19",
    "_uuid": "8f2839f25d086af736a60e9eeb907d3b93b6e0e5",
    "execution": {
     "iopub.execute_input": "2025-09-07T13:05:35.510191Z",
     "iopub.status.busy": "2025-09-07T13:05:35.509854Z",
     "iopub.status.idle": "2025-09-07T13:05:37.596400Z",
     "shell.execute_reply": "2025-09-07T13:05:37.595038Z"
    },
    "papermill": {
     "duration": 2.09626,
     "end_time": "2025-09-07T13:05:37.597986",
     "exception": false,
     "start_time": "2025-09-07T13:05:35.501726",
     "status": "completed"
    },
    "tags": []
   },
   "outputs": [
    {
     "name": "stdout",
     "output_type": "stream",
     "text": [
      "/kaggle/input/imdb-dataset-of-50k-movie-reviews/IMDB Dataset.csv\n"
     ]
    }
   ],
   "source": [
    "# This Python 3 environment comes with many helpful analytics libraries installed\n",
    "# It is defined by the kaggle/python Docker image: https://github.com/kaggle/docker-python\n",
    "# For example, here's several helpful packages to load\n",
    "\n",
    "import numpy as np # linear algebra\n",
    "import pandas as pd # data processing, CSV file I/O (e.g. pd.read_csv)\n",
    "\n",
    "# Input data files are available in the read-only \"../input/\" directory\n",
    "# For example, running this (by clicking run or pressing Shift+Enter) will list all files under the input directory\n",
    "\n",
    "import os\n",
    "for dirname, _, filenames in os.walk('/kaggle/input'):\n",
    "    for filename in filenames:\n",
    "        print(os.path.join(dirname, filename))\n",
    "\n",
    "# You can write up to 20GB to the current directory (/kaggle/working/) that gets preserved as output when you create a version using \"Save & Run All\" \n",
    "# You can also write temporary files to /kaggle/temp/, but they won't be saved outside of the current session"
   ]
  },
  {
   "cell_type": "code",
   "execution_count": 2,
   "id": "0ece2e33",
   "metadata": {
    "execution": {
     "iopub.execute_input": "2025-09-07T13:05:37.612102Z",
     "iopub.status.busy": "2025-09-07T13:05:37.611671Z",
     "iopub.status.idle": "2025-09-07T13:05:39.259868Z",
     "shell.execute_reply": "2025-09-07T13:05:39.258891Z"
    },
    "papermill": {
     "duration": 1.65709,
     "end_time": "2025-09-07T13:05:39.261753",
     "exception": false,
     "start_time": "2025-09-07T13:05:37.604663",
     "status": "completed"
    },
    "tags": []
   },
   "outputs": [],
   "source": [
    "df = pd.read_csv('/kaggle/input/imdb-dataset-of-50k-movie-reviews/IMDB Dataset.csv')"
   ]
  },
  {
   "cell_type": "code",
   "execution_count": null,
   "id": "102dc2b6",
   "metadata": {
    "papermill": {
     "duration": 0.00735,
     "end_time": "2025-09-07T13:05:39.276119",
     "exception": false,
     "start_time": "2025-09-07T13:05:39.268769",
     "status": "completed"
    },
    "tags": []
   },
   "outputs": [],
   "source": []
  },
  {
   "cell_type": "code",
   "execution_count": 3,
   "id": "b6fa7b90",
   "metadata": {
    "execution": {
     "iopub.execute_input": "2025-09-07T13:05:39.291052Z",
     "iopub.status.busy": "2025-09-07T13:05:39.290709Z",
     "iopub.status.idle": "2025-09-07T13:05:39.306648Z",
     "shell.execute_reply": "2025-09-07T13:05:39.305788Z"
    },
    "papermill": {
     "duration": 0.02556,
     "end_time": "2025-09-07T13:05:39.308402",
     "exception": false,
     "start_time": "2025-09-07T13:05:39.282842",
     "status": "completed"
    },
    "tags": []
   },
   "outputs": [],
   "source": [
    "df = df.sample(20000)"
   ]
  },
  {
   "cell_type": "code",
   "execution_count": 4,
   "id": "10404874",
   "metadata": {
    "execution": {
     "iopub.execute_input": "2025-09-07T13:05:39.323150Z",
     "iopub.status.busy": "2025-09-07T13:05:39.322779Z",
     "iopub.status.idle": "2025-09-07T13:05:39.349197Z",
     "shell.execute_reply": "2025-09-07T13:05:39.348261Z"
    },
    "papermill": {
     "duration": 0.035701,
     "end_time": "2025-09-07T13:05:39.350546",
     "exception": false,
     "start_time": "2025-09-07T13:05:39.314845",
     "status": "completed"
    },
    "tags": []
   },
   "outputs": [
    {
     "data": {
      "text/html": [
       "<div>\n",
       "<style scoped>\n",
       "    .dataframe tbody tr th:only-of-type {\n",
       "        vertical-align: middle;\n",
       "    }\n",
       "\n",
       "    .dataframe tbody tr th {\n",
       "        vertical-align: top;\n",
       "    }\n",
       "\n",
       "    .dataframe thead th {\n",
       "        text-align: right;\n",
       "    }\n",
       "</style>\n",
       "<table border=\"1\" class=\"dataframe\">\n",
       "  <thead>\n",
       "    <tr style=\"text-align: right;\">\n",
       "      <th></th>\n",
       "      <th>review</th>\n",
       "      <th>sentiment</th>\n",
       "    </tr>\n",
       "  </thead>\n",
       "  <tbody>\n",
       "    <tr>\n",
       "      <th>41621</th>\n",
       "      <td>Did I step in something or is that bad smell c...</td>\n",
       "      <td>negative</td>\n",
       "    </tr>\n",
       "    <tr>\n",
       "      <th>20384</th>\n",
       "      <td>Legendary director Sidney Lumet gives us one o...</td>\n",
       "      <td>positive</td>\n",
       "    </tr>\n",
       "    <tr>\n",
       "      <th>2050</th>\n",
       "      <td>Well - when the cameo appearance of Jason Mill...</td>\n",
       "      <td>negative</td>\n",
       "    </tr>\n",
       "    <tr>\n",
       "      <th>8091</th>\n",
       "      <td>The first point that calls the attention in \"F...</td>\n",
       "      <td>negative</td>\n",
       "    </tr>\n",
       "    <tr>\n",
       "      <th>14947</th>\n",
       "      <td>Killer Flood: The Day the Damn Broke: 1/10: Fi...</td>\n",
       "      <td>negative</td>\n",
       "    </tr>\n",
       "  </tbody>\n",
       "</table>\n",
       "</div>"
      ],
      "text/plain": [
       "                                                  review sentiment\n",
       "41621  Did I step in something or is that bad smell c...  negative\n",
       "20384  Legendary director Sidney Lumet gives us one o...  positive\n",
       "2050   Well - when the cameo appearance of Jason Mill...  negative\n",
       "8091   The first point that calls the attention in \"F...  negative\n",
       "14947  Killer Flood: The Day the Damn Broke: 1/10: Fi...  negative"
      ]
     },
     "execution_count": 4,
     "metadata": {},
     "output_type": "execute_result"
    }
   ],
   "source": [
    "df.head()"
   ]
  },
  {
   "cell_type": "code",
   "execution_count": 5,
   "id": "0d2cb6b1",
   "metadata": {
    "execution": {
     "iopub.execute_input": "2025-09-07T13:05:39.365163Z",
     "iopub.status.busy": "2025-09-07T13:05:39.364424Z",
     "iopub.status.idle": "2025-09-07T13:05:39.393815Z",
     "shell.execute_reply": "2025-09-07T13:05:39.392632Z"
    },
    "papermill": {
     "duration": 0.038606,
     "end_time": "2025-09-07T13:05:39.395440",
     "exception": false,
     "start_time": "2025-09-07T13:05:39.356834",
     "status": "completed"
    },
    "tags": []
   },
   "outputs": [
    {
     "name": "stdout",
     "output_type": "stream",
     "text": [
      "<class 'pandas.core.frame.DataFrame'>\n",
      "Index: 20000 entries, 41621 to 33649\n",
      "Data columns (total 2 columns):\n",
      " #   Column     Non-Null Count  Dtype \n",
      "---  ------     --------------  ----- \n",
      " 0   review     20000 non-null  object\n",
      " 1   sentiment  20000 non-null  object\n",
      "dtypes: object(2)\n",
      "memory usage: 468.8+ KB\n"
     ]
    }
   ],
   "source": [
    "df.info()"
   ]
  },
  {
   "cell_type": "code",
   "execution_count": 6,
   "id": "5ab11db5",
   "metadata": {
    "execution": {
     "iopub.execute_input": "2025-09-07T13:05:39.409506Z",
     "iopub.status.busy": "2025-09-07T13:05:39.409211Z",
     "iopub.status.idle": "2025-09-07T13:05:39.414715Z",
     "shell.execute_reply": "2025-09-07T13:05:39.413980Z"
    },
    "papermill": {
     "duration": 0.01436,
     "end_time": "2025-09-07T13:05:39.416201",
     "exception": false,
     "start_time": "2025-09-07T13:05:39.401841",
     "status": "completed"
    },
    "tags": []
   },
   "outputs": [
    {
     "data": {
      "text/plain": [
       "(20000, 2)"
      ]
     },
     "execution_count": 6,
     "metadata": {},
     "output_type": "execute_result"
    }
   ],
   "source": [
    "df.shape"
   ]
  },
  {
   "cell_type": "code",
   "execution_count": 7,
   "id": "a39adcd9",
   "metadata": {
    "execution": {
     "iopub.execute_input": "2025-09-07T13:05:39.430765Z",
     "iopub.status.busy": "2025-09-07T13:05:39.430482Z",
     "iopub.status.idle": "2025-09-07T13:05:39.436805Z",
     "shell.execute_reply": "2025-09-07T13:05:39.436044Z"
    },
    "papermill": {
     "duration": 0.01555,
     "end_time": "2025-09-07T13:05:39.438161",
     "exception": false,
     "start_time": "2025-09-07T13:05:39.422611",
     "status": "completed"
    },
    "tags": []
   },
   "outputs": [
    {
     "data": {
      "text/plain": [
       "\"Well - when the cameo appearance of Jason Miller (looking even more eroded than he did in Exorcist IV) is the high point of a picture, what've you got?It's a little bit country, a little bit rock n' roll: mix two drunks with money who drag their kid all over the place with a bog-dried mummy (have you figured that one out yet - DRIED in a bog?) in the basement, Christopher Walken with a bad dye job, and a little girl who might have been an interesting character if they'd developed her.I understand - sort of - that they're going back to visit her relatives. After that....Problem: There are several interesting flashbacks to what I must assume is her mother being killed in a car bombing (I think). This is never connected to anything. Problem: What do we need the grandmother for? Now, the grandmother could be interesting. She speaks Gaelic, or Celtic, or something. Maybe you can make something of her. The best they can do is that she 's got a tobacco habit. That's all.Problem: They cast a real shifty character as the husband. Is he type-cast (will he sell his wife to the devil? Maybe he can look forward to the trust fund he manages for her)or is he cast against type (after all, he has a good haircut and nice clothes)? He drinks, he hesitates. He's not a bad guy. Not a good one. But dislikable. Why didn't they DO something with him?No problem: an old boyfriend shows up. The husband knocks him down. He comes back to knock down the husband. (It gets pretty stupid, but at least THAT character has motivation.) NOW - she's an alcoholic, he's an alcoholic; he might only have married her for her money. The grandmother is locked in the bedroom. The blind uncle takes our heroine to the basement to show her the mummy of a witch (are you following this?) who may come to life. In fact, you KNOW she'll come to life, the music swells. A little girl lives in the house, takes tea to the grandmother (unlocks the door to do so) and provides granny with cigarettes. Periodically, granny gets out. But nothing happens. Husband and wife lose the kid in the house, subsequently lose their bedroom. Uncle gets his throat cut in the basement. The leading lady has nose-bleeds. The husband drinks. They both drink. In the face of all of this, the awful truth alluded to in the first over-voice is - omigod - an abortion when the leading lady was twelve years old.In spite of all these dangling-thread ingredients, nobody managed to get a story on the screen. No bridge between situations, no graduation from mild disturbance to awful horror, just long slow scenes that go nowhere.;nbody, really, to care about - and they had places to go with that aspect - the innocent kid in the charge of drunks,the grandmother who might be locked up because she's a monster, but no, her worst fault is smoking. She's got great hair, good makeup. In short, no plot. Just a little random (predictable)violence in a dark library, with the rain gushing in, and the sound track cuing us in. You need more than a few drunks and Christopher Walken to make a movie.The production values were good. Oh. Nice scenery, good wardrobe. The cameraman, at least, knew what he was doing.I bought it. Poor me.\""
      ]
     },
     "execution_count": 7,
     "metadata": {},
     "output_type": "execute_result"
    }
   ],
   "source": [
    "import re\n",
    "clean = re.compile('<.*?>')\n",
    "re.sub(clean, '',df.iloc[2].review)"
   ]
  },
  {
   "cell_type": "code",
   "execution_count": 8,
   "id": "a679ebd2",
   "metadata": {
    "execution": {
     "iopub.execute_input": "2025-09-07T13:05:39.453169Z",
     "iopub.status.busy": "2025-09-07T13:05:39.452278Z",
     "iopub.status.idle": "2025-09-07T13:05:39.457751Z",
     "shell.execute_reply": "2025-09-07T13:05:39.456450Z"
    },
    "papermill": {
     "duration": 0.014513,
     "end_time": "2025-09-07T13:05:39.459313",
     "exception": false,
     "start_time": "2025-09-07T13:05:39.444800",
     "status": "completed"
    },
    "tags": []
   },
   "outputs": [],
   "source": [
    "def cleanHtml(text):\n",
    "    clear = re.compile('<.*?>')\n",
    "    return re.sub(clean, '',text)"
   ]
  },
  {
   "cell_type": "code",
   "execution_count": 9,
   "id": "66c0307c",
   "metadata": {
    "execution": {
     "iopub.execute_input": "2025-09-07T13:05:39.474172Z",
     "iopub.status.busy": "2025-09-07T13:05:39.473836Z",
     "iopub.status.idle": "2025-09-07T13:05:39.583464Z",
     "shell.execute_reply": "2025-09-07T13:05:39.582402Z"
    },
    "papermill": {
     "duration": 0.119218,
     "end_time": "2025-09-07T13:05:39.585292",
     "exception": false,
     "start_time": "2025-09-07T13:05:39.466074",
     "status": "completed"
    },
    "tags": []
   },
   "outputs": [],
   "source": [
    "df['review'] = df['review'].apply(cleanHtml)"
   ]
  },
  {
   "cell_type": "code",
   "execution_count": 10,
   "id": "e2de08f1",
   "metadata": {
    "execution": {
     "iopub.execute_input": "2025-09-07T13:05:39.600112Z",
     "iopub.status.busy": "2025-09-07T13:05:39.599755Z",
     "iopub.status.idle": "2025-09-07T13:05:39.604636Z",
     "shell.execute_reply": "2025-09-07T13:05:39.603636Z"
    },
    "papermill": {
     "duration": 0.014098,
     "end_time": "2025-09-07T13:05:39.606309",
     "exception": false,
     "start_time": "2025-09-07T13:05:39.592211",
     "status": "completed"
    },
    "tags": []
   },
   "outputs": [],
   "source": [
    "def lower_text(text):\n",
    "    return text.lower()"
   ]
  },
  {
   "cell_type": "code",
   "execution_count": 11,
   "id": "cd6c1729",
   "metadata": {
    "execution": {
     "iopub.execute_input": "2025-09-07T13:05:39.621137Z",
     "iopub.status.busy": "2025-09-07T13:05:39.620425Z",
     "iopub.status.idle": "2025-09-07T13:05:39.699592Z",
     "shell.execute_reply": "2025-09-07T13:05:39.698486Z"
    },
    "papermill": {
     "duration": 0.08871,
     "end_time": "2025-09-07T13:05:39.701493",
     "exception": false,
     "start_time": "2025-09-07T13:05:39.612783",
     "status": "completed"
    },
    "tags": []
   },
   "outputs": [],
   "source": [
    "df['review'] = df['review'].apply(lower_text)"
   ]
  },
  {
   "cell_type": "code",
   "execution_count": 12,
   "id": "691bcc1b",
   "metadata": {
    "execution": {
     "iopub.execute_input": "2025-09-07T13:05:39.718317Z",
     "iopub.status.busy": "2025-09-07T13:05:39.717274Z",
     "iopub.status.idle": "2025-09-07T13:05:39.722853Z",
     "shell.execute_reply": "2025-09-07T13:05:39.721658Z"
    },
    "papermill": {
     "duration": 0.016043,
     "end_time": "2025-09-07T13:05:39.724422",
     "exception": false,
     "start_time": "2025-09-07T13:05:39.708379",
     "status": "completed"
    },
    "tags": []
   },
   "outputs": [],
   "source": [
    "def remove_special(text):\n",
    "    x = \"\"\n",
    "    for i in text:\n",
    "        if i.isalnum():\n",
    "            x = x+i\n",
    "        else:\n",
    "            x = x+' '\n",
    "    return x   "
   ]
  },
  {
   "cell_type": "code",
   "execution_count": 13,
   "id": "0856db5b",
   "metadata": {
    "execution": {
     "iopub.execute_input": "2025-09-07T13:05:39.738922Z",
     "iopub.status.busy": "2025-09-07T13:05:39.738615Z",
     "iopub.status.idle": "2025-09-07T13:05:42.632093Z",
     "shell.execute_reply": "2025-09-07T13:05:42.631258Z"
    },
    "papermill": {
     "duration": 2.903073,
     "end_time": "2025-09-07T13:05:42.634135",
     "exception": false,
     "start_time": "2025-09-07T13:05:39.731062",
     "status": "completed"
    },
    "tags": []
   },
   "outputs": [],
   "source": [
    "df['review'] = df['review'].apply(remove_special)"
   ]
  },
  {
   "cell_type": "code",
   "execution_count": 14,
   "id": "ff923235",
   "metadata": {
    "execution": {
     "iopub.execute_input": "2025-09-07T13:05:42.648735Z",
     "iopub.status.busy": "2025-09-07T13:05:42.648401Z",
     "iopub.status.idle": "2025-09-07T13:05:45.229692Z",
     "shell.execute_reply": "2025-09-07T13:05:45.228567Z"
    },
    "papermill": {
     "duration": 2.590672,
     "end_time": "2025-09-07T13:05:45.231553",
     "exception": false,
     "start_time": "2025-09-07T13:05:42.640881",
     "status": "completed"
    },
    "tags": []
   },
   "outputs": [],
   "source": [
    "import nltk"
   ]
  },
  {
   "cell_type": "code",
   "execution_count": 15,
   "id": "fab019a1",
   "metadata": {
    "execution": {
     "iopub.execute_input": "2025-09-07T13:05:45.246993Z",
     "iopub.status.busy": "2025-09-07T13:05:45.245905Z",
     "iopub.status.idle": "2025-09-07T13:05:45.251271Z",
     "shell.execute_reply": "2025-09-07T13:05:45.250104Z"
    },
    "papermill": {
     "duration": 0.014912,
     "end_time": "2025-09-07T13:05:45.253088",
     "exception": false,
     "start_time": "2025-09-07T13:05:45.238176",
     "status": "completed"
    },
    "tags": []
   },
   "outputs": [],
   "source": [
    "from nltk.corpus import stopwords"
   ]
  },
  {
   "cell_type": "code",
   "execution_count": 16,
   "id": "142b2f4c",
   "metadata": {
    "execution": {
     "iopub.execute_input": "2025-09-07T13:05:45.268386Z",
     "iopub.status.busy": "2025-09-07T13:05:45.268074Z",
     "iopub.status.idle": "2025-09-07T13:05:45.273658Z",
     "shell.execute_reply": "2025-09-07T13:05:45.272575Z"
    },
    "papermill": {
     "duration": 0.015088,
     "end_time": "2025-09-07T13:05:45.275265",
     "exception": false,
     "start_time": "2025-09-07T13:05:45.260177",
     "status": "completed"
    },
    "tags": []
   },
   "outputs": [],
   "source": [
    "def remove_stopwords(text):\n",
    "    x = []\n",
    "    for i in text.split():\n",
    "        if i not in stopwords.words('english'):\n",
    "            x.append(i)\n",
    "    y = x[:]\n",
    "    x.clear()\n",
    "    return y"
   ]
  },
  {
   "cell_type": "code",
   "execution_count": 17,
   "id": "0d85710b",
   "metadata": {
    "execution": {
     "iopub.execute_input": "2025-09-07T13:05:45.289863Z",
     "iopub.status.busy": "2025-09-07T13:05:45.289590Z",
     "iopub.status.idle": "2025-09-07T13:12:44.600566Z",
     "shell.execute_reply": "2025-09-07T13:12:44.599604Z"
    },
    "papermill": {
     "duration": 419.32149,
     "end_time": "2025-09-07T13:12:44.603447",
     "exception": false,
     "start_time": "2025-09-07T13:05:45.281957",
     "status": "completed"
    },
    "tags": []
   },
   "outputs": [],
   "source": [
    "df['review'] = df['review'].apply(remove_stopwords)"
   ]
  },
  {
   "cell_type": "code",
   "execution_count": 18,
   "id": "8f6f3c45",
   "metadata": {
    "execution": {
     "iopub.execute_input": "2025-09-07T13:12:44.619132Z",
     "iopub.status.busy": "2025-09-07T13:12:44.618769Z",
     "iopub.status.idle": "2025-09-07T13:12:44.633377Z",
     "shell.execute_reply": "2025-09-07T13:12:44.632241Z"
    },
    "papermill": {
     "duration": 0.024389,
     "end_time": "2025-09-07T13:12:44.635007",
     "exception": false,
     "start_time": "2025-09-07T13:12:44.610618",
     "status": "completed"
    },
    "tags": []
   },
   "outputs": [
    {
     "data": {
      "text/html": [
       "<div>\n",
       "<style scoped>\n",
       "    .dataframe tbody tr th:only-of-type {\n",
       "        vertical-align: middle;\n",
       "    }\n",
       "\n",
       "    .dataframe tbody tr th {\n",
       "        vertical-align: top;\n",
       "    }\n",
       "\n",
       "    .dataframe thead th {\n",
       "        text-align: right;\n",
       "    }\n",
       "</style>\n",
       "<table border=\"1\" class=\"dataframe\">\n",
       "  <thead>\n",
       "    <tr style=\"text-align: right;\">\n",
       "      <th></th>\n",
       "      <th>review</th>\n",
       "      <th>sentiment</th>\n",
       "    </tr>\n",
       "  </thead>\n",
       "  <tbody>\n",
       "    <tr>\n",
       "      <th>41621</th>\n",
       "      <td>[step, something, bad, smell, coming, daybreak...</td>\n",
       "      <td>negative</td>\n",
       "    </tr>\n",
       "    <tr>\n",
       "      <th>20384</th>\n",
       "      <td>[legendary, director, sidney, lumet, gives, us...</td>\n",
       "      <td>positive</td>\n",
       "    </tr>\n",
       "    <tr>\n",
       "      <th>2050</th>\n",
       "      <td>[well, cameo, appearance, jason, miller, looki...</td>\n",
       "      <td>negative</td>\n",
       "    </tr>\n",
       "    <tr>\n",
       "      <th>8091</th>\n",
       "      <td>[first, point, calls, attention, ever, mozart,...</td>\n",
       "      <td>negative</td>\n",
       "    </tr>\n",
       "    <tr>\n",
       "      <th>14947</th>\n",
       "      <td>[killer, flood, day, damn, broke, 1, 10, final...</td>\n",
       "      <td>negative</td>\n",
       "    </tr>\n",
       "    <tr>\n",
       "      <th>...</th>\n",
       "      <td>...</td>\n",
       "      <td>...</td>\n",
       "    </tr>\n",
       "    <tr>\n",
       "      <th>19643</th>\n",
       "      <td>[meltdown, opens, scene, scientists, preparing...</td>\n",
       "      <td>negative</td>\n",
       "    </tr>\n",
       "    <tr>\n",
       "      <th>4732</th>\n",
       "      <td>[wife, mental, health, therapist, watched, beg...</td>\n",
       "      <td>positive</td>\n",
       "    </tr>\n",
       "    <tr>\n",
       "      <th>49738</th>\n",
       "      <td>[badly, acted, two, character, comedy, drama, ...</td>\n",
       "      <td>negative</td>\n",
       "    </tr>\n",
       "    <tr>\n",
       "      <th>6363</th>\n",
       "      <td>[never, seen, movie, bad, even, entertaining, ...</td>\n",
       "      <td>negative</td>\n",
       "    </tr>\n",
       "    <tr>\n",
       "      <th>33649</th>\n",
       "      <td>[idea, bruce, haack, seeing, film, seen, moog,...</td>\n",
       "      <td>positive</td>\n",
       "    </tr>\n",
       "  </tbody>\n",
       "</table>\n",
       "<p>20000 rows × 2 columns</p>\n",
       "</div>"
      ],
      "text/plain": [
       "                                                  review sentiment\n",
       "41621  [step, something, bad, smell, coming, daybreak...  negative\n",
       "20384  [legendary, director, sidney, lumet, gives, us...  positive\n",
       "2050   [well, cameo, appearance, jason, miller, looki...  negative\n",
       "8091   [first, point, calls, attention, ever, mozart,...  negative\n",
       "14947  [killer, flood, day, damn, broke, 1, 10, final...  negative\n",
       "...                                                  ...       ...\n",
       "19643  [meltdown, opens, scene, scientists, preparing...  negative\n",
       "4732   [wife, mental, health, therapist, watched, beg...  positive\n",
       "49738  [badly, acted, two, character, comedy, drama, ...  negative\n",
       "6363   [never, seen, movie, bad, even, entertaining, ...  negative\n",
       "33649  [idea, bruce, haack, seeing, film, seen, moog,...  positive\n",
       "\n",
       "[20000 rows x 2 columns]"
      ]
     },
     "execution_count": 18,
     "metadata": {},
     "output_type": "execute_result"
    }
   ],
   "source": [
    "df"
   ]
  },
  {
   "cell_type": "code",
   "execution_count": 19,
   "id": "62a94f80",
   "metadata": {
    "execution": {
     "iopub.execute_input": "2025-09-07T13:12:44.650652Z",
     "iopub.status.busy": "2025-09-07T13:12:44.649888Z",
     "iopub.status.idle": "2025-09-07T13:12:44.654414Z",
     "shell.execute_reply": "2025-09-07T13:12:44.653650Z"
    },
    "papermill": {
     "duration": 0.013899,
     "end_time": "2025-09-07T13:12:44.655943",
     "exception": false,
     "start_time": "2025-09-07T13:12:44.642044",
     "status": "completed"
    },
    "tags": []
   },
   "outputs": [],
   "source": [
    "from nltk.stem.porter import PorterStemmer\n",
    "ps = PorterStemmer()"
   ]
  },
  {
   "cell_type": "code",
   "execution_count": 20,
   "id": "17326843",
   "metadata": {
    "execution": {
     "iopub.execute_input": "2025-09-07T13:12:44.671098Z",
     "iopub.status.busy": "2025-09-07T13:12:44.670755Z",
     "iopub.status.idle": "2025-09-07T13:12:44.675928Z",
     "shell.execute_reply": "2025-09-07T13:12:44.675083Z"
    },
    "papermill": {
     "duration": 0.014385,
     "end_time": "2025-09-07T13:12:44.677539",
     "exception": false,
     "start_time": "2025-09-07T13:12:44.663154",
     "status": "completed"
    },
    "tags": []
   },
   "outputs": [],
   "source": [
    "def stem_words(text):\n",
    "    y = []\n",
    "    for i in text:\n",
    "        y.append(ps.stem(i))\n",
    "    z = y[:]\n",
    "    return z"
   ]
  },
  {
   "cell_type": "code",
   "execution_count": 21,
   "id": "63361cd6",
   "metadata": {
    "execution": {
     "iopub.execute_input": "2025-09-07T13:12:44.764516Z",
     "iopub.status.busy": "2025-09-07T13:12:44.764206Z",
     "iopub.status.idle": "2025-09-07T13:13:23.500936Z",
     "shell.execute_reply": "2025-09-07T13:13:23.499788Z"
    },
    "papermill": {
     "duration": 38.747791,
     "end_time": "2025-09-07T13:13:23.502833",
     "exception": false,
     "start_time": "2025-09-07T13:12:44.755042",
     "status": "completed"
    },
    "tags": []
   },
   "outputs": [],
   "source": [
    "df['review'] = df['review'].apply(stem_words)"
   ]
  },
  {
   "cell_type": "code",
   "execution_count": 22,
   "id": "bb35dfd1",
   "metadata": {
    "execution": {
     "iopub.execute_input": "2025-09-07T13:13:23.518347Z",
     "iopub.status.busy": "2025-09-07T13:13:23.517973Z",
     "iopub.status.idle": "2025-09-07T13:13:23.532328Z",
     "shell.execute_reply": "2025-09-07T13:13:23.531401Z"
    },
    "papermill": {
     "duration": 0.023567,
     "end_time": "2025-09-07T13:13:23.533690",
     "exception": false,
     "start_time": "2025-09-07T13:13:23.510123",
     "status": "completed"
    },
    "tags": []
   },
   "outputs": [
    {
     "data": {
      "text/html": [
       "<div>\n",
       "<style scoped>\n",
       "    .dataframe tbody tr th:only-of-type {\n",
       "        vertical-align: middle;\n",
       "    }\n",
       "\n",
       "    .dataframe tbody tr th {\n",
       "        vertical-align: top;\n",
       "    }\n",
       "\n",
       "    .dataframe thead th {\n",
       "        text-align: right;\n",
       "    }\n",
       "</style>\n",
       "<table border=\"1\" class=\"dataframe\">\n",
       "  <thead>\n",
       "    <tr style=\"text-align: right;\">\n",
       "      <th></th>\n",
       "      <th>review</th>\n",
       "      <th>sentiment</th>\n",
       "    </tr>\n",
       "  </thead>\n",
       "  <tbody>\n",
       "    <tr>\n",
       "      <th>41621</th>\n",
       "      <td>[step, someth, bad, smell, come, daybreak, 1, ...</td>\n",
       "      <td>negative</td>\n",
       "    </tr>\n",
       "    <tr>\n",
       "      <th>20384</th>\n",
       "      <td>[legendari, director, sidney, lumet, give, us,...</td>\n",
       "      <td>positive</td>\n",
       "    </tr>\n",
       "    <tr>\n",
       "      <th>2050</th>\n",
       "      <td>[well, cameo, appear, jason, miller, look, eve...</td>\n",
       "      <td>negative</td>\n",
       "    </tr>\n",
       "    <tr>\n",
       "      <th>8091</th>\n",
       "      <td>[first, point, call, attent, ever, mozart, abs...</td>\n",
       "      <td>negative</td>\n",
       "    </tr>\n",
       "    <tr>\n",
       "      <th>14947</th>\n",
       "      <td>[killer, flood, day, damn, broke, 1, 10, final...</td>\n",
       "      <td>negative</td>\n",
       "    </tr>\n",
       "    <tr>\n",
       "      <th>...</th>\n",
       "      <td>...</td>\n",
       "      <td>...</td>\n",
       "    </tr>\n",
       "    <tr>\n",
       "      <th>19643</th>\n",
       "      <td>[meltdown, open, scene, scientist, prepar, con...</td>\n",
       "      <td>negative</td>\n",
       "    </tr>\n",
       "    <tr>\n",
       "      <th>4732</th>\n",
       "      <td>[wife, mental, health, therapist, watch, begin...</td>\n",
       "      <td>positive</td>\n",
       "    </tr>\n",
       "    <tr>\n",
       "      <th>49738</th>\n",
       "      <td>[badli, act, two, charact, comedi, drama, abru...</td>\n",
       "      <td>negative</td>\n",
       "    </tr>\n",
       "    <tr>\n",
       "      <th>6363</th>\n",
       "      <td>[never, seen, movi, bad, even, entertain, enou...</td>\n",
       "      <td>negative</td>\n",
       "    </tr>\n",
       "    <tr>\n",
       "      <th>33649</th>\n",
       "      <td>[idea, bruce, haack, see, film, seen, moog, do...</td>\n",
       "      <td>positive</td>\n",
       "    </tr>\n",
       "  </tbody>\n",
       "</table>\n",
       "<p>20000 rows × 2 columns</p>\n",
       "</div>"
      ],
      "text/plain": [
       "                                                  review sentiment\n",
       "41621  [step, someth, bad, smell, come, daybreak, 1, ...  negative\n",
       "20384  [legendari, director, sidney, lumet, give, us,...  positive\n",
       "2050   [well, cameo, appear, jason, miller, look, eve...  negative\n",
       "8091   [first, point, call, attent, ever, mozart, abs...  negative\n",
       "14947  [killer, flood, day, damn, broke, 1, 10, final...  negative\n",
       "...                                                  ...       ...\n",
       "19643  [meltdown, open, scene, scientist, prepar, con...  negative\n",
       "4732   [wife, mental, health, therapist, watch, begin...  positive\n",
       "49738  [badli, act, two, charact, comedi, drama, abru...  negative\n",
       "6363   [never, seen, movi, bad, even, entertain, enou...  negative\n",
       "33649  [idea, bruce, haack, see, film, seen, moog, do...  positive\n",
       "\n",
       "[20000 rows x 2 columns]"
      ]
     },
     "execution_count": 22,
     "metadata": {},
     "output_type": "execute_result"
    }
   ],
   "source": [
    "df"
   ]
  },
  {
   "cell_type": "code",
   "execution_count": 23,
   "id": "bf4b6dff",
   "metadata": {
    "execution": {
     "iopub.execute_input": "2025-09-07T13:13:23.549360Z",
     "iopub.status.busy": "2025-09-07T13:13:23.548908Z",
     "iopub.status.idle": "2025-09-07T13:13:23.553237Z",
     "shell.execute_reply": "2025-09-07T13:13:23.552443Z"
    },
    "papermill": {
     "duration": 0.013926,
     "end_time": "2025-09-07T13:13:23.554761",
     "exception": false,
     "start_time": "2025-09-07T13:13:23.540835",
     "status": "completed"
    },
    "tags": []
   },
   "outputs": [],
   "source": [
    "def join_back(list_in):\n",
    "    return \" \".join(list_in)"
   ]
  },
  {
   "cell_type": "code",
   "execution_count": 24,
   "id": "6422252d",
   "metadata": {
    "execution": {
     "iopub.execute_input": "2025-09-07T13:13:23.570419Z",
     "iopub.status.busy": "2025-09-07T13:13:23.570132Z",
     "iopub.status.idle": "2025-09-07T13:13:23.739089Z",
     "shell.execute_reply": "2025-09-07T13:13:23.738111Z"
    },
    "papermill": {
     "duration": 0.179527,
     "end_time": "2025-09-07T13:13:23.741368",
     "exception": false,
     "start_time": "2025-09-07T13:13:23.561841",
     "status": "completed"
    },
    "tags": []
   },
   "outputs": [],
   "source": [
    "df['review'] = df['review'].apply(join_back)"
   ]
  },
  {
   "cell_type": "code",
   "execution_count": 25,
   "id": "0f8dd7ab",
   "metadata": {
    "execution": {
     "iopub.execute_input": "2025-09-07T13:13:23.757295Z",
     "iopub.status.busy": "2025-09-07T13:13:23.756953Z",
     "iopub.status.idle": "2025-09-07T13:13:23.763183Z",
     "shell.execute_reply": "2025-09-07T13:13:23.762097Z"
    },
    "papermill": {
     "duration": 0.016283,
     "end_time": "2025-09-07T13:13:23.764929",
     "exception": false,
     "start_time": "2025-09-07T13:13:23.748646",
     "status": "completed"
    },
    "tags": []
   },
   "outputs": [],
   "source": [
    "from sklearn.feature_extraction.text import CountVectorizer\n",
    "cv = CountVectorizer()"
   ]
  },
  {
   "cell_type": "code",
   "execution_count": 26,
   "id": "fc276dee",
   "metadata": {
    "execution": {
     "iopub.execute_input": "2025-09-07T13:13:23.780373Z",
     "iopub.status.busy": "2025-09-07T13:13:23.780079Z",
     "iopub.status.idle": "2025-09-07T13:13:29.532230Z",
     "shell.execute_reply": "2025-09-07T13:13:29.531297Z"
    },
    "papermill": {
     "duration": 5.762205,
     "end_time": "2025-09-07T13:13:29.534188",
     "exception": false,
     "start_time": "2025-09-07T13:13:23.771983",
     "status": "completed"
    },
    "tags": []
   },
   "outputs": [],
   "source": [
    "X = cv.fit_transform(df['review']).toarray()"
   ]
  },
  {
   "cell_type": "code",
   "execution_count": 27,
   "id": "f1c2cebb",
   "metadata": {
    "execution": {
     "iopub.execute_input": "2025-09-07T13:13:29.549942Z",
     "iopub.status.busy": "2025-09-07T13:13:29.549600Z",
     "iopub.status.idle": "2025-09-07T13:13:29.555262Z",
     "shell.execute_reply": "2025-09-07T13:13:29.554314Z"
    },
    "papermill": {
     "duration": 0.015049,
     "end_time": "2025-09-07T13:13:29.556550",
     "exception": false,
     "start_time": "2025-09-07T13:13:29.541501",
     "status": "completed"
    },
    "tags": []
   },
   "outputs": [
    {
     "data": {
      "text/plain": [
       "(20000, 48658)"
      ]
     },
     "execution_count": 27,
     "metadata": {},
     "output_type": "execute_result"
    }
   ],
   "source": [
    "X.shape"
   ]
  },
  {
   "cell_type": "code",
   "execution_count": 28,
   "id": "0db6efdc",
   "metadata": {
    "execution": {
     "iopub.execute_input": "2025-09-07T13:13:29.571973Z",
     "iopub.status.busy": "2025-09-07T13:13:29.571651Z",
     "iopub.status.idle": "2025-09-07T13:13:29.576901Z",
     "shell.execute_reply": "2025-09-07T13:13:29.575791Z"
    },
    "papermill": {
     "duration": 0.01477,
     "end_time": "2025-09-07T13:13:29.578430",
     "exception": false,
     "start_time": "2025-09-07T13:13:29.563660",
     "status": "completed"
    },
    "tags": []
   },
   "outputs": [],
   "source": [
    "y = df.iloc[:,-1]"
   ]
  },
  {
   "cell_type": "code",
   "execution_count": 29,
   "id": "67b027f8",
   "metadata": {
    "execution": {
     "iopub.execute_input": "2025-09-07T13:13:29.594189Z",
     "iopub.status.busy": "2025-09-07T13:13:29.593838Z",
     "iopub.status.idle": "2025-09-07T13:13:29.600231Z",
     "shell.execute_reply": "2025-09-07T13:13:29.599267Z"
    },
    "papermill": {
     "duration": 0.01622,
     "end_time": "2025-09-07T13:13:29.601842",
     "exception": false,
     "start_time": "2025-09-07T13:13:29.585622",
     "status": "completed"
    },
    "tags": []
   },
   "outputs": [
    {
     "data": {
      "text/plain": [
       "(20000,)"
      ]
     },
     "execution_count": 29,
     "metadata": {},
     "output_type": "execute_result"
    }
   ],
   "source": [
    "y.shape"
   ]
  },
  {
   "cell_type": "code",
   "execution_count": 30,
   "id": "d7065e08",
   "metadata": {
    "execution": {
     "iopub.execute_input": "2025-09-07T13:13:29.617619Z",
     "iopub.status.busy": "2025-09-07T13:13:29.617277Z",
     "iopub.status.idle": "2025-09-07T13:13:34.260334Z",
     "shell.execute_reply": "2025-09-07T13:13:34.259356Z"
    },
    "papermill": {
     "duration": 4.652923,
     "end_time": "2025-09-07T13:13:34.262060",
     "exception": false,
     "start_time": "2025-09-07T13:13:29.609137",
     "status": "completed"
    },
    "tags": []
   },
   "outputs": [],
   "source": [
    "from sklearn.model_selection import train_test_split\n",
    "X_train, X_test,y_train,y_test=train_test_split(X,y,test_size=0.2)"
   ]
  },
  {
   "cell_type": "code",
   "execution_count": 31,
   "id": "f4266e97",
   "metadata": {
    "execution": {
     "iopub.execute_input": "2025-09-07T13:13:34.277705Z",
     "iopub.status.busy": "2025-09-07T13:13:34.277384Z",
     "iopub.status.idle": "2025-09-07T13:13:34.282865Z",
     "shell.execute_reply": "2025-09-07T13:13:34.281684Z"
    },
    "papermill": {
     "duration": 0.015094,
     "end_time": "2025-09-07T13:13:34.284371",
     "exception": false,
     "start_time": "2025-09-07T13:13:34.269277",
     "status": "completed"
    },
    "tags": []
   },
   "outputs": [
    {
     "name": "stdout",
     "output_type": "stream",
     "text": [
      "(16000, 48658)\n",
      "(4000, 48658)\n",
      "(16000,)\n",
      "(4000,)\n"
     ]
    }
   ],
   "source": [
    "print(X_train.shape)\n",
    "print(X_test.shape)\n",
    "print(y_train.shape)\n",
    "print(y_test.shape)"
   ]
  },
  {
   "cell_type": "code",
   "execution_count": 32,
   "id": "f293e4a6",
   "metadata": {
    "execution": {
     "iopub.execute_input": "2025-09-07T13:13:34.300574Z",
     "iopub.status.busy": "2025-09-07T13:13:34.300250Z",
     "iopub.status.idle": "2025-09-07T13:13:34.314418Z",
     "shell.execute_reply": "2025-09-07T13:13:34.313538Z"
    },
    "papermill": {
     "duration": 0.024328,
     "end_time": "2025-09-07T13:13:34.316225",
     "exception": false,
     "start_time": "2025-09-07T13:13:34.291897",
     "status": "completed"
    },
    "tags": []
   },
   "outputs": [],
   "source": [
    "from sklearn.naive_bayes import GaussianNB,MultinomialNB,BernoulliNB"
   ]
  },
  {
   "cell_type": "code",
   "execution_count": 33,
   "id": "66482426",
   "metadata": {
    "execution": {
     "iopub.execute_input": "2025-09-07T13:13:34.331824Z",
     "iopub.status.busy": "2025-09-07T13:13:34.331506Z",
     "iopub.status.idle": "2025-09-07T13:13:34.336191Z",
     "shell.execute_reply": "2025-09-07T13:13:34.335130Z"
    },
    "papermill": {
     "duration": 0.014548,
     "end_time": "2025-09-07T13:13:34.338005",
     "exception": false,
     "start_time": "2025-09-07T13:13:34.323457",
     "status": "completed"
    },
    "tags": []
   },
   "outputs": [],
   "source": [
    "cl1 = GaussianNB()\n",
    "cl2 = MultinomialNB()\n",
    "cl3 = BernoulliNB()"
   ]
  },
  {
   "cell_type": "code",
   "execution_count": 34,
   "id": "1ed694f0",
   "metadata": {
    "execution": {
     "iopub.execute_input": "2025-09-07T13:13:34.355196Z",
     "iopub.status.busy": "2025-09-07T13:13:34.354843Z",
     "iopub.status.idle": "2025-09-07T13:14:30.314930Z",
     "shell.execute_reply": "2025-09-07T13:14:30.313416Z"
    },
    "papermill": {
     "duration": 55.982472,
     "end_time": "2025-09-07T13:14:30.328097",
     "exception": false,
     "start_time": "2025-09-07T13:13:34.345625",
     "status": "completed"
    },
    "tags": []
   },
   "outputs": [
    {
     "data": {
      "text/html": [
       "<style>#sk-container-id-1 {color: black;background-color: white;}#sk-container-id-1 pre{padding: 0;}#sk-container-id-1 div.sk-toggleable {background-color: white;}#sk-container-id-1 label.sk-toggleable__label {cursor: pointer;display: block;width: 100%;margin-bottom: 0;padding: 0.3em;box-sizing: border-box;text-align: center;}#sk-container-id-1 label.sk-toggleable__label-arrow:before {content: \"▸\";float: left;margin-right: 0.25em;color: #696969;}#sk-container-id-1 label.sk-toggleable__label-arrow:hover:before {color: black;}#sk-container-id-1 div.sk-estimator:hover label.sk-toggleable__label-arrow:before {color: black;}#sk-container-id-1 div.sk-toggleable__content {max-height: 0;max-width: 0;overflow: hidden;text-align: left;background-color: #f0f8ff;}#sk-container-id-1 div.sk-toggleable__content pre {margin: 0.2em;color: black;border-radius: 0.25em;background-color: #f0f8ff;}#sk-container-id-1 input.sk-toggleable__control:checked~div.sk-toggleable__content {max-height: 200px;max-width: 100%;overflow: auto;}#sk-container-id-1 input.sk-toggleable__control:checked~label.sk-toggleable__label-arrow:before {content: \"▾\";}#sk-container-id-1 div.sk-estimator input.sk-toggleable__control:checked~label.sk-toggleable__label {background-color: #d4ebff;}#sk-container-id-1 div.sk-label input.sk-toggleable__control:checked~label.sk-toggleable__label {background-color: #d4ebff;}#sk-container-id-1 input.sk-hidden--visually {border: 0;clip: rect(1px 1px 1px 1px);clip: rect(1px, 1px, 1px, 1px);height: 1px;margin: -1px;overflow: hidden;padding: 0;position: absolute;width: 1px;}#sk-container-id-1 div.sk-estimator {font-family: monospace;background-color: #f0f8ff;border: 1px dotted black;border-radius: 0.25em;box-sizing: border-box;margin-bottom: 0.5em;}#sk-container-id-1 div.sk-estimator:hover {background-color: #d4ebff;}#sk-container-id-1 div.sk-parallel-item::after {content: \"\";width: 100%;border-bottom: 1px solid gray;flex-grow: 1;}#sk-container-id-1 div.sk-label:hover label.sk-toggleable__label {background-color: #d4ebff;}#sk-container-id-1 div.sk-serial::before {content: \"\";position: absolute;border-left: 1px solid gray;box-sizing: border-box;top: 0;bottom: 0;left: 50%;z-index: 0;}#sk-container-id-1 div.sk-serial {display: flex;flex-direction: column;align-items: center;background-color: white;padding-right: 0.2em;padding-left: 0.2em;position: relative;}#sk-container-id-1 div.sk-item {position: relative;z-index: 1;}#sk-container-id-1 div.sk-parallel {display: flex;align-items: stretch;justify-content: center;background-color: white;position: relative;}#sk-container-id-1 div.sk-item::before, #sk-container-id-1 div.sk-parallel-item::before {content: \"\";position: absolute;border-left: 1px solid gray;box-sizing: border-box;top: 0;bottom: 0;left: 50%;z-index: -1;}#sk-container-id-1 div.sk-parallel-item {display: flex;flex-direction: column;z-index: 1;position: relative;background-color: white;}#sk-container-id-1 div.sk-parallel-item:first-child::after {align-self: flex-end;width: 50%;}#sk-container-id-1 div.sk-parallel-item:last-child::after {align-self: flex-start;width: 50%;}#sk-container-id-1 div.sk-parallel-item:only-child::after {width: 0;}#sk-container-id-1 div.sk-dashed-wrapped {border: 1px dashed gray;margin: 0 0.4em 0.5em 0.4em;box-sizing: border-box;padding-bottom: 0.4em;background-color: white;}#sk-container-id-1 div.sk-label label {font-family: monospace;font-weight: bold;display: inline-block;line-height: 1.2em;}#sk-container-id-1 div.sk-label-container {text-align: center;}#sk-container-id-1 div.sk-container {/* jupyter's `normalize.less` sets `[hidden] { display: none; }` but bootstrap.min.css set `[hidden] { display: none !important; }` so we also need the `!important` here to be able to override the default hidden behavior on the sphinx rendered scikit-learn.org. See: https://github.com/scikit-learn/scikit-learn/issues/21755 */display: inline-block !important;position: relative;}#sk-container-id-1 div.sk-text-repr-fallback {display: none;}</style><div id=\"sk-container-id-1\" class=\"sk-top-container\"><div class=\"sk-text-repr-fallback\"><pre>BernoulliNB()</pre><b>In a Jupyter environment, please rerun this cell to show the HTML representation or trust the notebook. <br />On GitHub, the HTML representation is unable to render, please try loading this page with nbviewer.org.</b></div><div class=\"sk-container\" hidden><div class=\"sk-item\"><div class=\"sk-estimator sk-toggleable\"><input class=\"sk-toggleable__control sk-hidden--visually\" id=\"sk-estimator-id-1\" type=\"checkbox\" checked><label for=\"sk-estimator-id-1\" class=\"sk-toggleable__label sk-toggleable__label-arrow\">BernoulliNB</label><div class=\"sk-toggleable__content\"><pre>BernoulliNB()</pre></div></div></div></div></div>"
      ],
      "text/plain": [
       "BernoulliNB()"
      ]
     },
     "execution_count": 34,
     "metadata": {},
     "output_type": "execute_result"
    }
   ],
   "source": [
    "cl1.fit(X_train,y_train)\n",
    "cl2.fit(X_train,y_train)\n",
    "cl3.fit(X_train,y_train)"
   ]
  },
  {
   "cell_type": "code",
   "execution_count": 35,
   "id": "4066a03a",
   "metadata": {
    "execution": {
     "iopub.execute_input": "2025-09-07T13:14:30.345891Z",
     "iopub.status.busy": "2025-09-07T13:14:30.345504Z",
     "iopub.status.idle": "2025-09-07T13:14:37.678798Z",
     "shell.execute_reply": "2025-09-07T13:14:37.677836Z"
    },
    "papermill": {
     "duration": 7.344769,
     "end_time": "2025-09-07T13:14:37.680652",
     "exception": false,
     "start_time": "2025-09-07T13:14:30.335883",
     "status": "completed"
    },
    "tags": []
   },
   "outputs": [],
   "source": [
    "y_pred1 = cl1.predict(X_test)\n",
    "y_pred2 = cl2.predict(X_test)\n",
    "y_pred3 = cl3.predict(X_test)"
   ]
  },
  {
   "cell_type": "code",
   "execution_count": 36,
   "id": "edf5ee6d",
   "metadata": {
    "execution": {
     "iopub.execute_input": "2025-09-07T13:14:37.697496Z",
     "iopub.status.busy": "2025-09-07T13:14:37.697182Z",
     "iopub.status.idle": "2025-09-07T13:14:37.701665Z",
     "shell.execute_reply": "2025-09-07T13:14:37.700743Z"
    },
    "papermill": {
     "duration": 0.014957,
     "end_time": "2025-09-07T13:14:37.703496",
     "exception": false,
     "start_time": "2025-09-07T13:14:37.688539",
     "status": "completed"
    },
    "tags": []
   },
   "outputs": [],
   "source": [
    "from sklearn.metrics import accuracy_score"
   ]
  },
  {
   "cell_type": "code",
   "execution_count": 37,
   "id": "3eb71e2c",
   "metadata": {
    "execution": {
     "iopub.execute_input": "2025-09-07T13:14:37.719832Z",
     "iopub.status.busy": "2025-09-07T13:14:37.719535Z",
     "iopub.status.idle": "2025-09-07T13:14:37.751869Z",
     "shell.execute_reply": "2025-09-07T13:14:37.750752Z"
    },
    "papermill": {
     "duration": 0.042732,
     "end_time": "2025-09-07T13:14:37.753900",
     "exception": false,
     "start_time": "2025-09-07T13:14:37.711168",
     "status": "completed"
    },
    "tags": []
   },
   "outputs": [
    {
     "name": "stdout",
     "output_type": "stream",
     "text": [
      "0.64275\n",
      "0.8455\n",
      "0.82775\n"
     ]
    }
   ],
   "source": [
    "print(accuracy_score(y_test,y_pred1))\n",
    "print(accuracy_score(y_test,y_pred2))\n",
    "print(accuracy_score(y_test,y_pred3))"
   ]
  },
  {
   "cell_type": "code",
   "execution_count": null,
   "id": "5af39950",
   "metadata": {
    "papermill": {
     "duration": 0.007567,
     "end_time": "2025-09-07T13:14:37.769378",
     "exception": false,
     "start_time": "2025-09-07T13:14:37.761811",
     "status": "completed"
    },
    "tags": []
   },
   "outputs": [],
   "source": []
  }
 ],
 "metadata": {
  "kaggle": {
   "accelerator": "none",
   "dataSources": [
    {
     "datasetId": 134715,
     "sourceId": 320111,
     "sourceType": "datasetVersion"
    }
   ],
   "dockerImageVersionId": 31089,
   "isGpuEnabled": false,
   "isInternetEnabled": false,
   "language": "python",
   "sourceType": "notebook"
  },
  "kernelspec": {
   "display_name": "Python 3",
   "language": "python",
   "name": "python3"
  },
  "language_info": {
   "codemirror_mode": {
    "name": "ipython",
    "version": 3
   },
   "file_extension": ".py",
   "mimetype": "text/x-python",
   "name": "python",
   "nbconvert_exporter": "python",
   "pygments_lexer": "ipython3",
   "version": "3.11.13"
  },
  "papermill": {
   "default_parameters": {},
   "duration": 549.34717,
   "end_time": "2025-09-07T13:14:39.204251",
   "environment_variables": {},
   "exception": null,
   "input_path": "__notebook__.ipynb",
   "output_path": "__notebook__.ipynb",
   "parameters": {},
   "start_time": "2025-09-07T13:05:29.857081",
   "version": "2.6.0"
  }
 },
 "nbformat": 4,
 "nbformat_minor": 5
}
