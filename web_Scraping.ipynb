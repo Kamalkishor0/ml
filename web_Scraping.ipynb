{
  "cells": [
    {
      "cell_type": "markdown",
      "metadata": {
        "id": "view-in-github",
        "colab_type": "text"
      },
      "source": [
        "<a href=\"https://colab.research.google.com/github/Kamalkishor0/ml/blob/main/web_Scraping.ipynb\" target=\"_parent\"><img src=\"https://colab.research.google.com/assets/colab-badge.svg\" alt=\"Open In Colab\"/></a>"
      ]
    },
    {
      "cell_type": "code",
      "execution_count": null,
      "metadata": {
        "colab": {
          "base_uri": "https://localhost:8080/"
        },
        "id": "VrQWbThMLCtW",
        "outputId": "5b0ee12e-7087-4c19-c1e0-d2e57a3847ba"
      },
      "outputs": [
        {
          "name": "stdout",
          "output_type": "stream",
          "text": [
            "Requirement already satisfied: pandas in /usr/local/lib/python3.11/dist-packages (2.2.2)\n",
            "Requirement already satisfied: beautifulsoup4 in /usr/local/lib/python3.11/dist-packages (4.13.4)\n",
            "Requirement already satisfied: requests in /usr/local/lib/python3.11/dist-packages (2.32.3)\n",
            "Requirement already satisfied: numpy in /usr/local/lib/python3.11/dist-packages (2.0.2)\n",
            "Requirement already satisfied: python-dateutil>=2.8.2 in /usr/local/lib/python3.11/dist-packages (from pandas) (2.9.0.post0)\n",
            "Requirement already satisfied: pytz>=2020.1 in /usr/local/lib/python3.11/dist-packages (from pandas) (2025.2)\n",
            "Requirement already satisfied: tzdata>=2022.7 in /usr/local/lib/python3.11/dist-packages (from pandas) (2025.2)\n",
            "Requirement already satisfied: soupsieve>1.2 in /usr/local/lib/python3.11/dist-packages (from beautifulsoup4) (2.7)\n",
            "Requirement already satisfied: typing-extensions>=4.0.0 in /usr/local/lib/python3.11/dist-packages (from beautifulsoup4) (4.13.2)\n",
            "Requirement already satisfied: charset-normalizer<4,>=2 in /usr/local/lib/python3.11/dist-packages (from requests) (3.4.2)\n",
            "Requirement already satisfied: idna<4,>=2.5 in /usr/local/lib/python3.11/dist-packages (from requests) (3.10)\n",
            "Requirement already satisfied: urllib3<3,>=1.21.1 in /usr/local/lib/python3.11/dist-packages (from requests) (2.4.0)\n",
            "Requirement already satisfied: certifi>=2017.4.17 in /usr/local/lib/python3.11/dist-packages (from requests) (2025.4.26)\n",
            "Requirement already satisfied: six>=1.5 in /usr/local/lib/python3.11/dist-packages (from python-dateutil>=2.8.2->pandas) (1.17.0)\n"
          ]
        }
      ],
      "source": [
        "!pip install pandas beautifulsoup4 requests numpy"
      ]
    },
    {
      "cell_type": "code",
      "execution_count": null,
      "metadata": {
        "id": "h8gog_SyPBTC"
      },
      "outputs": [],
      "source": [
        "import pandas as pd\n",
        "import requests\n",
        "from bs4 import BeautifulSoup\n",
        "import numpy as np"
      ]
    },
    {
      "cell_type": "markdown",
      "metadata": {
        "id": "UXXL00KE5GqP"
      },
      "source": [
        "# if response code is 403\n",
        " - headers={'User-Agent':'Mozilla/5.0 (Windows NT 6.3; Win 64 ; x64) Apple WeKit /537.36(KHTML , like Gecko) Chrome/80.0.3987.162 Safari/537.36'}\n",
        " -requests.get('url',headers=headers).text"
      ]
    },
    {
      "cell_type": "code",
      "execution_count": null,
      "metadata": {
        "id": "jTydSea9PcHE"
      },
      "outputs": [],
      "source": [
        "import requests\n",
        "from bs4 import BeautifulSoup\n",
        "\n",
        "# URL of the page to scrape\n",
        "book = []\n",
        "for i in range(1,51):\n",
        "  url = f\"https://books.toscrape.com/catalogue/page-{i}.html\"\n",
        "  # Headers to mimic a browser\n",
        "  headers = {\n",
        "      \"User-Agent\": \"Mozilla/5.0 (Windows NT 10.0; Win64; x64) AppleWebKit/537.36 (KHTML, like Gecko) Chrome/91.0.4472.124 Safari/537.36\"\n",
        "  }\n",
        "\n",
        "  # Make a GET request to fetch the page content\n",
        "  response = requests.get(url, headers=headers)\n",
        "\n",
        "  # Check if the request was successful\n",
        "  if response.status_code == 200:\n",
        "      # Parse the HTML content\n",
        "      soup = BeautifulSoup(response.text, \"lxml\")\n",
        "      for i in soup.find_all('h3'):\n",
        "        book.append(i.text.strip())\n",
        "  else:\n",
        "      print(f\"Failed to fetch the page. Status code: {response.status_code}\")\n"
      ]
    },
    {
      "cell_type": "code",
      "source": [
        "len(book)"
      ],
      "metadata": {
        "colab": {
          "base_uri": "https://localhost:8080/"
        },
        "id": "txvvcYNUEuWU",
        "outputId": "a166aa57-20bf-4844-ef0f-6744ab232815"
      },
      "execution_count": null,
      "outputs": [
        {
          "output_type": "execute_result",
          "data": {
            "text/plain": [
              "1000"
            ]
          },
          "metadata": {},
          "execution_count": 24
        }
      ]
    },
    {
      "cell_type": "code",
      "execution_count": null,
      "metadata": {
        "id": "pVlSaG1v1ufv"
      },
      "outputs": [],
      "source": [
        "#print(soup.prettify())"
      ]
    },
    {
      "cell_type": "code",
      "source": [
        "import requests\n",
        "from bs4 import BeautifulSoup\n",
        "from urllib.parse import urljoin\n",
        "\n",
        "# URL of the page to scrape\n",
        "book = []\n",
        "output_file = 'file.txt'\n",
        "file = open(output_file, 'w')\n",
        "for i in range(1,51):\n",
        "  url = f\"https://books.toscrape.com/catalogue/page-{i}.html\"\n",
        "  # Headers to mimic a browser\n",
        "  headers = {\n",
        "      \"User-Agent\": \"Mozilla/5.0 (Windows NT 10.0; Win64; x64) AppleWebKit/537.36 (KHTML, like Gecko) Chrome/91.0.4472.124 Safari/537.36\"\n",
        "  }\n",
        "\n",
        "  response = requests.get(url, headers=headers)\n",
        "\n",
        "  if response.status_code == 200:\n",
        "      # Parse the HTML content\n",
        "      soup = BeautifulSoup(response.text, \"html.parser\")\n",
        "      image_tags = soup.find_all('img')\n",
        "      with open(output_file, 'a') as file:\n",
        "        for img in image_tags:\n",
        "          img_url = img.get('src')\n",
        "          img_url = urljoin(url, img_url)\n",
        "          file.write(img_url + '\\n')\n",
        "  else:\n",
        "      print(f\"Failed to fetch the page. Status code: {response.status_code}\")\n"
      ],
      "metadata": {
        "id": "BtcJdDgQKRSC"
      },
      "execution_count": 30,
      "outputs": []
    },
    {
      "cell_type": "code",
      "execution_count": null,
      "metadata": {
        "colab": {
          "base_uri": "https://localhost:8080/",
          "height": 35
        },
        "id": "K15yMsdx14gX",
        "outputId": "69c937e2-a813-4990-c6cc-91265bbe2ef9"
      },
      "outputs": [
        {
          "output_type": "execute_result",
          "data": {
            "text/plain": [
              "'All products'"
            ],
            "application/vnd.google.colaboratory.intrinsic+json": {
              "type": "string"
            }
          },
          "metadata": {},
          "execution_count": 9
        }
      ],
      "source": [
        "soup.find_all('h1')[0].text"
      ]
    },
    {
      "cell_type": "markdown",
      "metadata": {
        "id": "nlrJOjtw6Q-V"
      },
      "source": [
        "# TO FIND OUT NAMES OF THE COMPANIES"
      ]
    },
    {
      "cell_type": "code",
      "execution_count": null,
      "metadata": {
        "id": "if5OqNWI3Atj",
        "colab": {
          "base_uri": "https://localhost:8080/"
        },
        "outputId": "d17f69ba-f896-4bf3-d869-dd50f691f770"
      },
      "outputs": [
        {
          "output_type": "stream",
          "name": "stdout",
          "text": [
            "A Light in the ...\n",
            "Tipping the Velvet\n",
            "Soumission\n",
            "Sharp Objects\n",
            "Sapiens: A Brief History ...\n",
            "The Requiem Red\n",
            "The Dirty Little Secrets ...\n",
            "The Coming Woman: A ...\n",
            "The Boys in the ...\n",
            "The Black Maria\n",
            "Starving Hearts (Triangular Trade ...\n",
            "Shakespeare's Sonnets\n",
            "Set Me Free\n",
            "Scott Pilgrim's Precious Little ...\n",
            "Rip it Up and ...\n",
            "Our Band Could Be ...\n",
            "Olio\n",
            "Mesaerion: The Best Science ...\n",
            "Libertarianism for Beginners\n",
            "It's Only the Himalayas\n"
          ]
        }
      ],
      "source": [
        "for i in soup.find_all('h3'):\n",
        "  print(i.text.strip())"
      ]
    },
    {
      "cell_type": "code",
      "execution_count": null,
      "metadata": {
        "id": "QpjmJvQz3L_4"
      },
      "outputs": [],
      "source": [
        "# for i in soup.find_all('p'):\n",
        "#   print(i.text.strip())"
      ]
    },
    {
      "cell_type": "code",
      "execution_count": null,
      "metadata": {
        "id": "q0cDFHe94QTn"
      },
      "outputs": [],
      "source": [
        "#for in soup.find_all('p'):\n",
        "  #print(i.text.strip())"
      ]
    },
    {
      "cell_type": "markdown",
      "metadata": {
        "id": "Sy9oKse_6WdF"
      },
      "source": [
        "## TO FIND OUT THE RATINGS"
      ]
    },
    {
      "cell_type": "code",
      "source": [
        "for i in soup.find_all():\n",
        "  print(i.i.text.strip())"
      ],
      "metadata": {
        "id": "LxdW5mkDBcNA"
      },
      "execution_count": null,
      "outputs": []
    },
    {
      "cell_type": "code",
      "execution_count": null,
      "metadata": {
        "colab": {
          "base_uri": "https://localhost:8080/",
          "height": 34
        },
        "id": "oTJRDIHc4aPz",
        "outputId": "4c8e54c2-73a8-4147-ec2b-96153fd87d3a"
      },
      "outputs": [
        {
          "data": {
            "text/plain": [
              "30"
            ]
          },
          "execution_count": 10,
          "metadata": {
            "tags": []
          },
          "output_type": "execute_result"
        }
      ],
      "source": [
        "len(soup.find_all('p',class_='rating'))"
      ]
    },
    {
      "cell_type": "markdown",
      "metadata": {
        "id": "aVLBIp1q6bKi"
      },
      "source": [
        "## TO FIND OUT THE NUMBER OF REVIEWS"
      ]
    },
    {
      "cell_type": "code",
      "execution_count": null,
      "metadata": {
        "colab": {
          "base_uri": "https://localhost:8080/",
          "height": 34
        },
        "id": "aee5Z2bK48Gf",
        "outputId": "90210131-9c03-408c-b059-82bd7244eb37"
      },
      "outputs": [
        {
          "data": {
            "text/plain": [
              "30"
            ]
          },
          "execution_count": 11,
          "metadata": {
            "tags": []
          },
          "output_type": "execute_result"
        }
      ],
      "source": [
        "len(soup.find_all('a' , class_='review-count'))"
      ]
    },
    {
      "cell_type": "markdown",
      "metadata": {
        "id": "PA8HCbVD7dho"
      },
      "source": [
        "# CONSIDERING THE WHOLE CONTAINER\n",
        "\n"
      ]
    },
    {
      "cell_type": "code",
      "execution_count": null,
      "metadata": {
        "id": "5xH_T95B9wWO"
      },
      "outputs": [],
      "source": [
        "company=soup.find_all('div',class_='company-content-wrapper')"
      ]
    },
    {
      "cell_type": "code",
      "execution_count": null,
      "metadata": {
        "colab": {
          "base_uri": "https://localhost:8080/",
          "height": 34
        },
        "id": "2ALc15yw9w2E",
        "outputId": "d33cf99f-364a-4598-fdb8-736dee63bf5b"
      },
      "outputs": [
        {
          "data": {
            "text/plain": [
              "30"
            ]
          },
          "execution_count": 13,
          "metadata": {
            "tags": []
          },
          "output_type": "execute_result"
        }
      ],
      "source": [
        "len(company)"
      ]
    },
    {
      "cell_type": "code",
      "execution_count": null,
      "metadata": {
        "id": "lNrFbe6I9wzM"
      },
      "outputs": [],
      "source": [
        "name=[]\n",
        "rating=[]\n",
        "reviews=[]\n",
        "ctype=[]\n",
        "hq=[]\n",
        "how_old=[]\n",
        "no_of_employee=[]\n",
        "\n",
        "for i in company:\n",
        "\n",
        "  name.append(i.find('h2').text.strip())\n",
        "  rating.append(i.find('p',class_='rating').text.strip())\n",
        "  reviews.append(i.find('a' , class_='review-count').text.strip())\n",
        "  ctype.append(i.find_all('p',class_='infoEntity')[0].text.strip())\n",
        "  hq.append(i.find_all('p',class_='infoEntity')[1].text.strip())\n",
        "  how_old.append(i.find_all('p',class_='infoEntity')[2].text.strip())\n",
        "  no_of_employee.append(i.find_all('p',class_='infoEntity')[3].text.strip())\n",
        "\n",
        "df=pd.DataFrame({'name':name,\n",
        "   'rating':rating,\n",
        "   'reviews':reviews,\n",
        "   'company_type':ctype,\n",
        "   'Head_Quarters':hq,\n",
        "   'Company_Age':how_old,\n",
        "   'No_of_Employee':no_of_employee,\n",
        "   })\n",
        "\n"
      ]
    },
    {
      "cell_type": "code",
      "execution_count": null,
      "metadata": {
        "colab": {
          "base_uri": "https://localhost:8080/",
          "height": 527
        },
        "id": "cqbu_DVu68V1",
        "outputId": "82ea9fda-e0a1-4de3-c2a2-a06cc862f809"
      },
      "outputs": [
        {
          "data": {
            "text/plain": [
              "['TCS',\n",
              " 'Accenture',\n",
              " 'ICICI Bank',\n",
              " 'Cognizant',\n",
              " 'HDFC Bank',\n",
              " 'Capgemini',\n",
              " 'Tech Mahindra',\n",
              " 'HCL Technologies',\n",
              " 'L&T',\n",
              " 'Infosys',\n",
              " 'Tata Motors',\n",
              " 'IBM',\n",
              " 'Genpact',\n",
              " 'Reliance jio',\n",
              " 'Axis Bank',\n",
              " 'Wipro',\n",
              " 'Concentrix Corporation',\n",
              " 'HDB Financial Services',\n",
              " 'Vodafone',\n",
              " 'Bharti Airtel',\n",
              " 'Kotak Mahindra Bank',\n",
              " 'Amazon',\n",
              " 'Reliance',\n",
              " 'Bajaj Finserv',\n",
              " 'IndusInd Bank',\n",
              " 'Indian Army',\n",
              " 'Teleperformance',\n",
              " 'Hinduja Global Solutions',\n",
              " 'Samsung',\n",
              " 'Mahindra & Mahindra']"
            ]
          },
          "execution_count": 15,
          "metadata": {
            "tags": []
          },
          "output_type": "execute_result"
        }
      ],
      "source": [
        "name"
      ]
    },
    {
      "cell_type": "code",
      "execution_count": null,
      "metadata": {
        "colab": {
          "base_uri": "https://localhost:8080/",
          "height": 527
        },
        "id": "ge7M03Fr_Fz0",
        "outputId": "dd8461c8-83eb-4a19-b0da-876d17c44aba"
      },
      "outputs": [
        {
          "data": {
            "text/plain": [
              "['3.9',\n",
              " '4.0',\n",
              " '4.1',\n",
              " '3.9',\n",
              " '4.0',\n",
              " '3.4',\n",
              " '3.6',\n",
              " '3.7',\n",
              " '4.2',\n",
              " '3.9',\n",
              " '4.1',\n",
              " '4.1',\n",
              " '4.0',\n",
              " '4.0',\n",
              " '4.0',\n",
              " '3.8',\n",
              " '4.0',\n",
              " '4.0',\n",
              " '4.2',\n",
              " '4.2',\n",
              " '3.8',\n",
              " '4.1',\n",
              " '4.2',\n",
              " '4.1',\n",
              " '3.6',\n",
              " '4.7',\n",
              " '3.7',\n",
              " '3.8',\n",
              " '4.2',\n",
              " '4.2']"
            ]
          },
          "execution_count": 16,
          "metadata": {
            "tags": []
          },
          "output_type": "execute_result"
        }
      ],
      "source": [
        "rating"
      ]
    },
    {
      "cell_type": "code",
      "execution_count": null,
      "metadata": {
        "colab": {
          "base_uri": "https://localhost:8080/",
          "height": 527
        },
        "id": "U1AdxIWh_cT2",
        "outputId": "fa8a2757-558e-4609-bfb4-8e68eb273087"
      },
      "outputs": [
        {
          "data": {
            "text/plain": [
              "['17.1k Reviews',\n",
              " '15k Reviews',\n",
              " '13.8k Reviews',\n",
              " '12.9k Reviews',\n",
              " '12k Reviews',\n",
              " '10k Reviews',\n",
              " '9.8k Reviews',\n",
              " '9.2k Reviews',\n",
              " '9.1k Reviews',\n",
              " '8.7k Reviews',\n",
              " '8.6k Reviews',\n",
              " '8.5k Reviews',\n",
              " '8.3k Reviews',\n",
              " '8.3k Reviews',\n",
              " '8.3k Reviews',\n",
              " '7.3k Reviews',\n",
              " '7.3k Reviews',\n",
              " '6.2k Reviews',\n",
              " '5.7k Reviews',\n",
              " '5.7k Reviews',\n",
              " '5.7k Reviews',\n",
              " '5.6k Reviews',\n",
              " '4.8k Reviews',\n",
              " '4.1k Reviews',\n",
              " '3.9k Reviews',\n",
              " '3.9k Reviews',\n",
              " '3.8k Reviews',\n",
              " '3.8k Reviews',\n",
              " '3.6k Reviews',\n",
              " '3.6k Reviews']"
            ]
          },
          "execution_count": 17,
          "metadata": {
            "tags": []
          },
          "output_type": "execute_result"
        }
      ],
      "source": [
        "reviews\n"
      ]
    },
    {
      "cell_type": "code",
      "execution_count": null,
      "metadata": {
        "colab": {
          "base_uri": "https://localhost:8080/",
          "height": 527
        },
        "id": "qD7dwe_3A0zX",
        "outputId": "17c8084e-e4c4-4d34-8b46-0a5b7edbbe17"
      },
      "outputs": [
        {
          "data": {
            "text/plain": [
              "['Public',\n",
              " 'Private',\n",
              " 'Public',\n",
              " 'Private',\n",
              " 'Public',\n",
              " 'Private',\n",
              " 'Public',\n",
              " 'Public',\n",
              " 'Public',\n",
              " 'Public',\n",
              " 'Public',\n",
              " 'Private',\n",
              " 'Private',\n",
              " 'Public',\n",
              " 'Public',\n",
              " 'Public',\n",
              " 'Public',\n",
              " 'Private',\n",
              " 'Public',\n",
              " 'Public',\n",
              " 'Public',\n",
              " 'Private',\n",
              " 'Public',\n",
              " 'Public',\n",
              " 'Public',\n",
              " 'Govt agency',\n",
              " 'Private',\n",
              " 'Public',\n",
              " 'Private',\n",
              " 'Public']"
            ]
          },
          "execution_count": 18,
          "metadata": {
            "tags": []
          },
          "output_type": "execute_result"
        }
      ],
      "source": [
        "ctype"
      ]
    },
    {
      "cell_type": "code",
      "execution_count": null,
      "metadata": {
        "colab": {
          "base_uri": "https://localhost:8080/",
          "height": 527
        },
        "id": "gaBl79RWC6C9",
        "outputId": "d0846f29-36ff-4dfb-931d-af142040ea50"
      },
      "outputs": [
        {
          "data": {
            "text/plain": [
              "['Mumbai + 164 more',\n",
              " 'Dublin + 98 more',\n",
              " 'Mumbai + 743 more',\n",
              " 'Teaneck + 46 more',\n",
              " 'Mumbai + 729 more',\n",
              " 'Paris + 45 more',\n",
              " 'Pune + 160 more',\n",
              " 'Noida + 111 more',\n",
              " 'Mumbai + 337 more',\n",
              " 'Bangalore + 68 more',\n",
              " 'Pune + 344 more',\n",
              " 'New York + 73 more',\n",
              " 'New York + 31 more',\n",
              " 'Navi Mumbai + 606 more',\n",
              " 'Mumbai + 670 more',\n",
              " 'Bangalore + 123 more',\n",
              " 'Fremont + 39 more',\n",
              " 'Ahmedabad + 463 more',\n",
              " 'Berkshire + 364 more',\n",
              " 'New Delhi + 347 more',\n",
              " 'Mumbai + 361 more',\n",
              " 'Washington + 182 more',\n",
              " 'Mumbai + 216 more',\n",
              " 'Pune + 478 more',\n",
              " 'Mumbai + 365 more',\n",
              " 'New Delhi + 211 more',\n",
              " 'Paris + 45 more',\n",
              " 'Bangalore + 52 more',\n",
              " 'Seoul + 292 more',\n",
              " 'Mumbai + 268 more']"
            ]
          },
          "execution_count": 19,
          "metadata": {
            "tags": []
          },
          "output_type": "execute_result"
        }
      ],
      "source": [
        "hq"
      ]
    },
    {
      "cell_type": "code",
      "execution_count": null,
      "metadata": {
        "colab": {
          "base_uri": "https://localhost:8080/",
          "height": 527
        },
        "id": "qKvcL-RSDNA_",
        "outputId": "2de2b0ee-8cfc-4390-dd42-bd92dd1a83de"
      },
      "outputs": [
        {
          "data": {
            "text/plain": [
              "['52 years old',\n",
              " '31 years old',\n",
              " '26 years old',\n",
              " '26 years old',\n",
              " '26 years old',\n",
              " '53 years old',\n",
              " '34 years old',\n",
              " '14 years old',\n",
              " '82 years old',\n",
              " '39 years old',\n",
              " '75 years old',\n",
              " '109 years old',\n",
              " '23 years old',\n",
              " '10 years old',\n",
              " '27 years old',\n",
              " '75 years old',\n",
              " '37 years old',\n",
              " '13 years old',\n",
              " '38 years old',\n",
              " '25 years old',\n",
              " '17 years old',\n",
              " '26 years old',\n",
              " '54 years old',\n",
              " '13 years old',\n",
              " '26 years old',\n",
              " '125 years old',\n",
              " '42 years old',\n",
              " '20 years old',\n",
              " '82 years old',\n",
              " '75 years old']"
            ]
          },
          "execution_count": 20,
          "metadata": {
            "tags": []
          },
          "output_type": "execute_result"
        }
      ],
      "source": [
        "how_old"
      ]
    },
    {
      "cell_type": "code",
      "execution_count": null,
      "metadata": {
        "colab": {
          "base_uri": "https://localhost:8080/",
          "height": 527
        },
        "id": "xoZK-cnADjZh",
        "outputId": "c109aa60-e69f-4de4-d203-2a985e79f5c9"
      },
      "outputs": [
        {
          "data": {
            "text/plain": [
              "['10000+ employees',\n",
              " '10000+ employees',\n",
              " '10000+ employees',\n",
              " '10000+ employees',\n",
              " '10000+ employees',\n",
              " '10000+ employees',\n",
              " '10000+ employees',\n",
              " '10000+ employees',\n",
              " '10000+ employees',\n",
              " '10000+ employees',\n",
              " '10000+ employees',\n",
              " '10000+ employees',\n",
              " '10000+ employees',\n",
              " '10000+ employees',\n",
              " '10000+ employees',\n",
              " '10000+ employees',\n",
              " '10000+ employees',\n",
              " '10000+ employees',\n",
              " '10000+ employees',\n",
              " '10000+ employees',\n",
              " '10000+ employees',\n",
              " '10000+ employees',\n",
              " '10000+ employees',\n",
              " '10000+ employees',\n",
              " '10000+ employees',\n",
              " '10000+ employees',\n",
              " '10000+ employees',\n",
              " '10000+ employees',\n",
              " '10000+ employees',\n",
              " '10000+ employees']"
            ]
          },
          "execution_count": 21,
          "metadata": {
            "tags": []
          },
          "output_type": "execute_result"
        }
      ],
      "source": [
        "no_of_employee"
      ]
    },
    {
      "cell_type": "code",
      "execution_count": null,
      "metadata": {
        "colab": {
          "base_uri": "https://localhost:8080/",
          "height": 34
        },
        "id": "2Tr21ds3Dnqg",
        "outputId": "180d642b-87f9-4b0a-b82d-380297fe462a"
      },
      "outputs": [
        {
          "data": {
            "text/plain": [
              "(30, 7)"
            ]
          },
          "execution_count": 22,
          "metadata": {
            "tags": []
          },
          "output_type": "execute_result"
        }
      ],
      "source": [
        "df.shape"
      ]
    },
    {
      "cell_type": "markdown",
      "metadata": {
        "id": "BQr_Y1UYHKM2"
      },
      "source": [
        "# creating dataframe for all the pages"
      ]
    },
    {
      "cell_type": "code",
      "execution_count": null,
      "metadata": {
        "id": "vu0soRadFf2J"
      },
      "outputs": [],
      "source": [
        "final=pd.DataFrame()\n",
        "for j in range(1,1001):\n",
        "  webpage=requests.get('https://www.ambitionbox.com/list-of-companies?page={}'.format(j)).text\n",
        "  soup=BeautifulSoup(webpage,'lxml')\n",
        "  company=soup.find_all('div',class_='company-content-wrapper')\n",
        "  name=[]\n",
        "  rating=[]\n",
        "  reviews=[]\n",
        "  ctype=[]\n",
        "  hq=[]\n",
        "  how_old=[]\n",
        "  no_of_employee=[]\n",
        "\n",
        "  for i in company:\n",
        "\n",
        "    try:\n",
        "       name.append(i.find('h2').text.strip())\n",
        "    except:\n",
        "       name.append(np.nan)\n",
        "\n",
        "    try:\n",
        "       rating.append(i.find('p',class_='rating').text.strip())\n",
        "    except:\n",
        "       rating.append(np.nan)\n",
        "\n",
        "    try:\n",
        "\n",
        "      reviews.append(i.find('a' , class_='review-count').text.strip())\n",
        "    except:\n",
        "      reviews.append(np.nan)\n",
        "\n",
        "    try:\n",
        "\n",
        "      ctype.append(i.find_all('p',class_='infoEntity')[0].text.strip())\n",
        "    except:\n",
        "      ctype.append(np.nan)\n",
        "    try:\n",
        "\n",
        "      hq.append(i.find_all('p',class_='infoEntity')[1].text.strip())\n",
        "    except:\n",
        "      hq.append(np.nan)\n",
        "\n",
        "    try:\n",
        "\n",
        "      how_old.append(i.find_all('p',class_='infoEntity')[2].text.strip())\n",
        "    except:\n",
        "      how_old.append(np.nan)\n",
        "    try:\n",
        "      no_of_employee.append(i.find_all('p',class_='infoEntity')[3].text.strip())\n",
        "    except:\n",
        "      no_of_employee.append(np.nan)\n",
        "\n",
        "\n",
        "  df=pd.DataFrame({'name':name,\n",
        "    'rating':rating,\n",
        "    'reviews':reviews,\n",
        "    'company_type':ctype,\n",
        "    'Head_Quarters':hq,\n",
        "    'Company_Age':how_old,\n",
        "    'No_of_Employee':no_of_employee,\n",
        "    })\n",
        "\n",
        "  final=final.append(df,ignore_index=True)\n",
        "\n",
        "\n",
        "\n"
      ]
    },
    {
      "cell_type": "code",
      "execution_count": null,
      "metadata": {
        "colab": {
          "base_uri": "https://localhost:8080/",
          "height": 204
        },
        "id": "nZwtx4cJD9K-",
        "outputId": "c54166f2-2c19-4870-c9bc-6b1df638a661"
      },
      "outputs": [
        {
          "data": {
            "text/html": [
              "<div>\n",
              "<style scoped>\n",
              "    .dataframe tbody tr th:only-of-type {\n",
              "        vertical-align: middle;\n",
              "    }\n",
              "\n",
              "    .dataframe tbody tr th {\n",
              "        vertical-align: top;\n",
              "    }\n",
              "\n",
              "    .dataframe thead th {\n",
              "        text-align: right;\n",
              "    }\n",
              "</style>\n",
              "<table border=\"1\" class=\"dataframe\">\n",
              "  <thead>\n",
              "    <tr style=\"text-align: right;\">\n",
              "      <th></th>\n",
              "      <th>name</th>\n",
              "      <th>rating</th>\n",
              "      <th>reviews</th>\n",
              "      <th>company_type</th>\n",
              "      <th>Head_Quarters</th>\n",
              "      <th>Company_Age</th>\n",
              "      <th>No_of_Employee</th>\n",
              "    </tr>\n",
              "  </thead>\n",
              "  <tbody>\n",
              "    <tr>\n",
              "      <th>2</th>\n",
              "      <td>Bank of America</td>\n",
              "      <td>4.3</td>\n",
              "      <td>831 Reviews</td>\n",
              "      <td>Private</td>\n",
              "      <td>Charlotte + 21 more</td>\n",
              "      <td>22 years old</td>\n",
              "      <td>10000+ employees</td>\n",
              "    </tr>\n",
              "    <tr>\n",
              "      <th>22</th>\n",
              "      <td>R.R. Donnelley</td>\n",
              "      <td>4.1</td>\n",
              "      <td>781 Reviews</td>\n",
              "      <td>Private</td>\n",
              "      <td>Chicago + 7 more</td>\n",
              "      <td>156 years old</td>\n",
              "      <td>10000+ employees</td>\n",
              "    </tr>\n",
              "    <tr>\n",
              "      <th>11</th>\n",
              "      <td>Mahindra Holidays &amp; Reso...</td>\n",
              "      <td>3.9</td>\n",
              "      <td>808 Reviews</td>\n",
              "      <td>Private</td>\n",
              "      <td>Mumbai + 70 more</td>\n",
              "      <td>24 years old</td>\n",
              "      <td>10000+ employees</td>\n",
              "    </tr>\n",
              "    <tr>\n",
              "      <th>23</th>\n",
              "      <td>GVK Emergency Management...</td>\n",
              "      <td>3.9</td>\n",
              "      <td>781 Reviews</td>\n",
              "      <td>Partnership</td>\n",
              "      <td>Hyderabad + 70 more</td>\n",
              "      <td>15 years old</td>\n",
              "      <td>10000+ employees</td>\n",
              "    </tr>\n",
              "    <tr>\n",
              "      <th>9</th>\n",
              "      <td>Itc Infotech India</td>\n",
              "      <td>3.4</td>\n",
              "      <td>814 Reviews</td>\n",
              "      <td>Private</td>\n",
              "      <td>Kolkata + 24 more</td>\n",
              "      <td>20 years old</td>\n",
              "      <td>10000+ employees</td>\n",
              "    </tr>\n",
              "  </tbody>\n",
              "</table>\n",
              "</div>"
            ],
            "text/plain": [
              "                           name rating  ...    Company_Age    No_of_Employee\n",
              "2               Bank of America    4.3  ...   22 years old  10000+ employees\n",
              "22               R.R. Donnelley    4.1  ...  156 years old  10000+ employees\n",
              "11  Mahindra Holidays & Reso...    3.9  ...   24 years old  10000+ employees\n",
              "23  GVK Emergency Management...    3.9  ...   15 years old  10000+ employees\n",
              "9            Itc Infotech India    3.4  ...   20 years old  10000+ employees\n",
              "\n",
              "[5 rows x 7 columns]"
            ]
          },
          "execution_count": 31,
          "metadata": {
            "tags": []
          },
          "output_type": "execute_result"
        }
      ],
      "source": [
        "df.sample(5)"
      ]
    },
    {
      "cell_type": "code",
      "execution_count": null,
      "metadata": {
        "colab": {
          "base_uri": "https://localhost:8080/",
          "height": 34
        },
        "id": "Fj-21N8oD-0C",
        "outputId": "f6379099-423e-4279-ce90-cb4285890529"
      },
      "outputs": [
        {
          "data": {
            "text/plain": [
              "(30, 7)"
            ]
          },
          "execution_count": 32,
          "metadata": {
            "tags": []
          },
          "output_type": "execute_result"
        }
      ],
      "source": [
        "df.shape"
      ]
    },
    {
      "cell_type": "code",
      "execution_count": null,
      "metadata": {
        "colab": {
          "base_uri": "https://localhost:8080/",
          "height": 34
        },
        "id": "bADESucpEM2p",
        "outputId": "8845ebe2-57c6-40cb-e49d-de6b9471fa16"
      },
      "outputs": [
        {
          "data": {
            "text/plain": [
              "(30000, 7)"
            ]
          },
          "execution_count": 39,
          "metadata": {
            "tags": []
          },
          "output_type": "execute_result"
        }
      ],
      "source": [
        "final.shape"
      ]
    },
    {
      "cell_type": "code",
      "execution_count": null,
      "metadata": {
        "id": "ua1yezMhEdi5"
      },
      "outputs": [],
      "source": []
    }
  ],
  "metadata": {
    "colab": {
      "provenance": [],
      "include_colab_link": true
    },
    "kernelspec": {
      "display_name": "Python 3",
      "name": "python3"
    }
  },
  "nbformat": 4,
  "nbformat_minor": 0
}